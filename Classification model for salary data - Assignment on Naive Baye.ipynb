{
 "cells": [
  {
   "cell_type": "markdown",
   "metadata": {},
   "source": [
    "# Import Library"
   ]
  },
  {
   "cell_type": "code",
   "execution_count": 1,
   "metadata": {},
   "outputs": [],
   "source": [
    "import pandas as pd\n",
    "import numpy as np"
   ]
  },
  {
   "cell_type": "markdown",
   "metadata": {},
   "source": [
    "# Import Data set"
   ]
  },
  {
   "cell_type": "code",
   "execution_count": 2,
   "metadata": {},
   "outputs": [],
   "source": [
    "salary_train = pd.read_csv(\"C:\\\\Users\\\\Swathi\\\\Desktop\\\\Excelr Classes\\\\Assignments\\\\Naive Baye-pending\\\\SalaryData_Train.csv\")\n",
    "salary_test = pd.read_csv(\"C:\\\\Users\\\\Swathi\\\\Desktop\\\\Excelr Classes\\\\Assignments\\\\Naive Baye-pending\\\\SalaryData_Test.csv\")\n",
    "# salary_train.head()\n",
    "# salary_test.head()"
   ]
  },
  {
   "cell_type": "markdown",
   "metadata": {},
   "source": [
    "# Identify columns with categorical data"
   ]
  },
  {
   "cell_type": "code",
   "execution_count": 3,
   "metadata": {},
   "outputs": [
    {
     "name": "stdout",
     "output_type": "stream",
     "text": [
      "Index(['workclass', 'education', 'maritalstatus', 'occupation', 'relationship',\n",
      "       'race', 'sex', 'native', 'Salary'],\n",
      "      dtype='object')\n",
      "Index(['workclass', 'education', 'maritalstatus', 'occupation', 'relationship',\n",
      "       'race', 'sex', 'native', 'Salary'],\n",
      "      dtype='object')\n"
     ]
    }
   ],
   "source": [
    "objList_train = salary_train.select_dtypes(include = \"object\").columns\n",
    "print (objList_train)\n",
    "\n",
    "objList_test = salary_test.select_dtypes(include = \"object\").columns\n",
    "print (objList_test)"
   ]
  },
  {
   "cell_type": "markdown",
   "metadata": {},
   "source": [
    "Place all categorical columns in a list"
   ]
  },
  {
   "cell_type": "code",
   "execution_count": 4,
   "metadata": {},
   "outputs": [],
   "source": [
    "string_columns=[\"workclass\",\"education\",\"maritalstatus\",\"occupation\",\"relationship\",\"race\",\"sex\",\"native\"]"
   ]
  },
  {
   "cell_type": "markdown",
   "metadata": {},
   "source": [
    "# Convert to numercial using Label Encoder"
   ]
  },
  {
   "cell_type": "code",
   "execution_count": 5,
   "metadata": {},
   "outputs": [],
   "source": [
    "from sklearn import preprocessing\n",
    "number = preprocessing.LabelEncoder()\n",
    "for i in string_columns:\n",
    "    salary_train[i] = number.fit_transform(salary_train[i])\n",
    "    salary_test[i] = number.fit_transform(salary_test[i])"
   ]
  },
  {
   "cell_type": "markdown",
   "metadata": {},
   "source": [
    "# Train and Test split"
   ]
  },
  {
   "cell_type": "code",
   "execution_count": 6,
   "metadata": {},
   "outputs": [],
   "source": [
    "colnames = salary_train.columns\n",
    "len(colnames[0:13])\n",
    "trainX = salary_train[colnames[0:13]]\n",
    "trainY = salary_train[colnames[13]]\n",
    "testX  = salary_test[colnames[0:13]]\n",
    "testY  = salary_test[colnames[13]]"
   ]
  },
  {
   "cell_type": "markdown",
   "metadata": {},
   "source": [
    "# Model Building"
   ]
  },
  {
   "cell_type": "code",
   "execution_count": 7,
   "metadata": {},
   "outputs": [],
   "source": [
    "from sklearn.naive_bayes import GaussianNB\n",
    "from sklearn.naive_bayes import MultinomialNB\n",
    "from sklearn.metrics import confusion_matrix\n",
    "\n",
    "\n",
    "sgnb = GaussianNB()\n",
    "smnb = MultinomialNB()"
   ]
  },
  {
   "cell_type": "markdown",
   "metadata": {},
   "source": [
    "# Gaussian Naive Bayes"
   ]
  },
  {
   "cell_type": "code",
   "execution_count": 8,
   "metadata": {},
   "outputs": [
    {
     "name": "stdout",
     "output_type": "stream",
     "text": [
      "[[10759   601]\n",
      " [ 2491  1209]]\n",
      "Accuracy 0.7946879150066402\n"
     ]
    }
   ],
   "source": [
    "spred_gnb = sgnb.fit(trainX,trainY).predict(testX)\n",
    "confusion_matrix_GNB = confusion_matrix(testY,spred_gnb)\n",
    "print(confusion_matrix_GNB)\n",
    "print (\"Accuracy\",(10759+1209)/(10759+601+2491+1209)) # 79%"
   ]
  },
  {
   "cell_type": "markdown",
   "metadata": {},
   "source": [
    "# Multinomial naive Bayes"
   ]
  },
  {
   "cell_type": "code",
   "execution_count": 9,
   "metadata": {},
   "outputs": [
    {
     "name": "stdout",
     "output_type": "stream",
     "text": [
      "[[10891   469]\n",
      " [ 2920   780]]\n",
      "Accuracy 0.7749667994687915\n"
     ]
    }
   ],
   "source": [
    "spred_mnb = smnb.fit(trainX,trainY).predict(testX)\n",
    "confusion_matrix_MNB = confusion_matrix(testY,spred_mnb)\n",
    "print(confusion_matrix_MNB)\n",
    "print(\"Accuracy\",(10891+780)/(10891+469+2920+780))  # 77%"
   ]
  }
 ],
 "metadata": {
  "kernelspec": {
   "display_name": "Python 3",
   "language": "python",
   "name": "python3"
  },
  "language_info": {
   "codemirror_mode": {
    "name": "ipython",
    "version": 3
   },
   "file_extension": ".py",
   "mimetype": "text/x-python",
   "name": "python",
   "nbconvert_exporter": "python",
   "pygments_lexer": "ipython3",
   "version": "3.7.6"
  }
 },
 "nbformat": 4,
 "nbformat_minor": 4
}
